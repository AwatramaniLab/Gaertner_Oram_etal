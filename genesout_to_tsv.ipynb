{
 "cells": [
  {
   "cell_type": "code",
   "execution_count": 5,
   "id": "60b47a55-2276-44ad-8047-06116d88a4f1",
   "metadata": {},
   "outputs": [
    {
     "name": "stdout",
     "output_type": "stream",
     "text": [
      "         GENE  NEW_PARKINSONS\n",
      "0  AL669831.1        -1.33020\n",
      "1  AL645608.2        -0.67525\n",
      "2      SAMD11        -0.14080\n",
      "3  AL645608.1         0.31430\n",
      "4       NOC2L        -0.59434\n"
     ]
    }
   ],
   "source": [
    "import pandas as pd\n",
    "\n",
    "file_path = '/Users/elanschonfeld/Downloads/FUMA_job492849/magma.genes.out'\n",
    "\n",
    "#Read the file using pandas\n",
    "genes_data = pd.read_csv(file_path, sep='\\t')\n",
    "\n",
    "output_df = genes_data[['SYMBOL', 'ZSTAT']].rename(columns={'SYMBOL': 'GENE', 'ZSTAT': 'NEW_PARKINSONS'})\n",
    "output_df = output_df.drop_duplicates(subset='GENE')\n",
    "\n",
    "#Save output to a new file\n",
    "output_file_path = '/Users/elanschonfeld/Downloads/FUMA_job492849/genes_new_pd.tsv'\n",
    "output_df.to_csv(output_file_path, sep='\\t', index=False, na_rep='NA')\n",
    "\n",
    "print(output_df.head())"
   ]
  }
 ],
 "metadata": {
  "kernelspec": {
   "display_name": "Python 3 (ipykernel)",
   "language": "python",
   "name": "python3"
  },
  "language_info": {
   "codemirror_mode": {
    "name": "ipython",
    "version": 3
   },
   "file_extension": ".py",
   "mimetype": "text/x-python",
   "name": "python",
   "nbconvert_exporter": "python",
   "pygments_lexer": "ipython3",
   "version": "3.11.7"
  }
 },
 "nbformat": 4,
 "nbformat_minor": 5
}
